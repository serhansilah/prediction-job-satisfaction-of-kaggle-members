{
 "cells": [
  {
   "cell_type": "markdown",
   "metadata": {
    "id": "Lvoiffly3jwl",
    "papermill": {
     "duration": 0.03544,
     "end_time": "2021-06-23T12:53:13.554162",
     "exception": false,
     "start_time": "2021-06-23T12:53:13.518722",
     "status": "completed"
    },
    "tags": []
   },
   "source": [
    "# Prediction Job Satisfaction of Kaggle Members"
   ]
  },
  {
   "cell_type": "markdown",
   "metadata": {
    "papermill": {
     "duration": 0.033205,
     "end_time": "2021-06-23T12:53:13.621087",
     "exception": false,
     "start_time": "2021-06-23T12:53:13.587882",
     "status": "completed"
    },
    "tags": []
   },
   "source": [
    "**Presentation and more info: https://drive.google.com/file/d/1mVdBrK_yxfsh8duJYXe5-57jyAloOnd7/view?usp=sharing** "
   ]
  },
  {
   "cell_type": "markdown",
   "metadata": {
    "id": "xQlkgKu80J3n",
    "papermill": {
     "duration": 0.033878,
     "end_time": "2021-06-23T12:53:13.688756",
     "exception": false,
     "start_time": "2021-06-23T12:53:13.654878",
     "status": "completed"
    },
    "tags": []
   },
   "source": [
    "# Libraries"
   ]
  },
  {
   "cell_type": "code",
   "execution_count": 1,
   "metadata": {
    "execution": {
     "iopub.execute_input": "2021-06-23T12:53:13.772084Z",
     "iopub.status.busy": "2021-06-23T12:53:13.771451Z",
     "iopub.status.idle": "2021-06-23T12:53:24.740373Z",
     "shell.execute_reply": "2021-06-23T12:53:24.741199Z",
     "shell.execute_reply.started": "2021-06-22T16:58:21.291003Z"
    },
    "id": "Q-zJpFwSPBIz",
    "papermill": {
     "duration": 11.019048,
     "end_time": "2021-06-23T12:53:24.741464",
     "exception": false,
     "start_time": "2021-06-23T12:53:13.722416",
     "status": "completed"
    },
    "tags": []
   },
   "outputs": [
    {
     "name": "stdout",
     "output_type": "stream",
     "text": [
      "Collecting pycountry-convert\r\n",
      "  Downloading pycountry_convert-0.7.2-py3-none-any.whl (13 kB)\r\n",
      "Requirement already satisfied: wheel>=0.30.0 in /opt/conda/lib/python3.7/site-packages (from pycountry-convert) (0.34.2)\r\n",
      "Requirement already satisfied: pycountry>=16.11.27.1 in /opt/conda/lib/python3.7/site-packages (from pycountry-convert) (20.7.3)\r\n",
      "Requirement already satisfied: pytest>=3.4.0 in /opt/conda/lib/python3.7/site-packages (from pycountry-convert) (5.4.1)\r\n",
      "Collecting pprintpp>=0.3.0\r\n",
      "  Downloading pprintpp-0.4.0-py2.py3-none-any.whl (16 kB)\r\n",
      "Requirement already satisfied: py>=1.5.0 in /opt/conda/lib/python3.7/site-packages (from pytest>=3.4.0->pycountry-convert) (1.8.1)\r\n",
      "Requirement already satisfied: packaging in /opt/conda/lib/python3.7/site-packages (from pytest>=3.4.0->pycountry-convert) (20.1)\r\n",
      "Requirement already satisfied: attrs>=17.4.0 in /opt/conda/lib/python3.7/site-packages (from pytest>=3.4.0->pycountry-convert) (19.3.0)\r\n",
      "Requirement already satisfied: more-itertools>=4.0.0 in /opt/conda/lib/python3.7/site-packages (from pytest>=3.4.0->pycountry-convert) (8.2.0)\r\n",
      "Requirement already satisfied: pluggy<1.0,>=0.12 in /opt/conda/lib/python3.7/site-packages (from pytest>=3.4.0->pycountry-convert) (0.13.0)\r\n",
      "Requirement already satisfied: wcwidth in /opt/conda/lib/python3.7/site-packages (from pytest>=3.4.0->pycountry-convert) (0.1.9)\r\n",
      "Requirement already satisfied: importlib-metadata>=0.12 in /opt/conda/lib/python3.7/site-packages (from pytest>=3.4.0->pycountry-convert) (3.1.1)\r\n",
      "Requirement already satisfied: zipp>=0.5 in /opt/conda/lib/python3.7/site-packages (from importlib-metadata>=0.12->pytest>=3.4.0->pycountry-convert) (3.1.0)\r\n",
      "Requirement already satisfied: pyparsing>=2.0.2 in /opt/conda/lib/python3.7/site-packages (from packaging->pytest>=3.4.0->pycountry-convert) (2.4.7)\r\n",
      "Requirement already satisfied: six in /opt/conda/lib/python3.7/site-packages (from packaging->pytest>=3.4.0->pycountry-convert) (1.14.0)\r\n",
      "Requirement already satisfied: importlib-metadata>=0.12 in /opt/conda/lib/python3.7/site-packages (from pytest>=3.4.0->pycountry-convert) (3.1.1)\r\n",
      "Collecting pytest-cov>=2.5.1\r\n",
      "  Downloading pytest_cov-2.12.1-py2.py3-none-any.whl (20 kB)\r\n",
      "Requirement already satisfied: pytest>=3.4.0 in /opt/conda/lib/python3.7/site-packages (from pycountry-convert) (5.4.1)\r\n",
      "Requirement already satisfied: toml in /opt/conda/lib/python3.7/site-packages (from pytest-cov>=2.5.1->pycountry-convert) (0.10.0)\r\n",
      "Collecting coverage>=5.2.1\r\n",
      "  Downloading coverage-5.5-cp37-cp37m-manylinux2010_x86_64.whl (242 kB)\r\n",
      "\u001b[K     |████████████████████████████████| 242 kB 6.6 MB/s \r\n",
      "\u001b[?25hCollecting pytest-mock>=1.6.3\r\n",
      "  Downloading pytest_mock-3.6.1-py3-none-any.whl (12 kB)\r\n",
      "Requirement already satisfied: pytest>=3.4.0 in /opt/conda/lib/python3.7/site-packages (from pycountry-convert) (5.4.1)\r\n",
      "Collecting repoze.lru>=0.7\r\n",
      "  Downloading repoze.lru-0.7-py3-none-any.whl (10 kB)\r\n",
      "Installing collected packages: coverage, repoze.lru, pytest-mock, pytest-cov, pprintpp, pycountry-convert\r\n",
      "Successfully installed coverage-5.5 pprintpp-0.4.0 pycountry-convert-0.7.2 pytest-cov-2.12.1 pytest-mock-3.6.1 repoze.lru-0.7\r\n",
      "\u001b[33mWARNING: You are using pip version 20.3.1; however, version 21.1.2 is available.\r\n",
      "You should consider upgrading via the '/opt/conda/bin/python3.7 -m pip install --upgrade pip' command.\u001b[0m\r\n",
      "/kaggle/input/cs412-fall2020/test.xlsx\n",
      "/kaggle/input/cs412-fall2020/sampleSubmission.csv\n",
      "/kaggle/input/cs412-fall2020/train.xlsx\n",
      "/kaggle/input/cs412-fall2020/dataset_explanation.csv\n"
     ]
    }
   ],
   "source": [
    "import numpy as np # linear algebra\n",
    "import pandas as pd # data processing, CSV file I/O (e.g. pd.read_csv)\n",
    "import matplotlib.pyplot as plt\n",
    "import os\n",
    "from sklearn.model_selection import train_test_split\n",
    "from sklearn.metrics import mean_squared_error\n",
    "from sklearn.linear_model import LinearRegression\n",
    "from sklearn.utils import shuffle\n",
    "from matplotlib import pyplot\n",
    "import seaborn as sns\n",
    "!pip install pycountry-convert\n",
    "\n",
    "import pycountry_convert as pc\n",
    "from sklearn import linear_model\n",
    "from sklearn.model_selection import KFold,cross_val_score\n",
    "from statistics import mean\n",
    "from sklearn.linear_model import RidgeCV\n",
    "from sklearn.datasets import make_regression\n",
    "from sklearn.ensemble import GradientBoostingRegressor\n",
    "from sklearn.linear_model import LassoCV\n",
    "from sklearn.linear_model import ElasticNetCV\n",
    "\n",
    "\n",
    "%matplotlib inline\n",
    "\n",
    "for dirname, _, filenames in os.walk('/kaggle/input'):\n",
    "    for filename in filenames:\n",
    "        print(os.path.join(dirname, filename))"
   ]
  },
  {
   "cell_type": "markdown",
   "metadata": {
    "id": "oA3RjaF9PBJd",
    "papermill": {
     "duration": 0.044372,
     "end_time": "2021-06-23T12:53:24.825076",
     "exception": false,
     "start_time": "2021-06-23T12:53:24.780704",
     "status": "completed"
    },
    "tags": []
   },
   "source": [
    "The libraries which we are using in this notebook"
   ]
  },
  {
   "cell_type": "markdown",
   "metadata": {
    "id": "qe24weDczYzK",
    "papermill": {
     "duration": 0.038194,
     "end_time": "2021-06-23T12:53:24.901603",
     "exception": false,
     "start_time": "2021-06-23T12:53:24.863409",
     "status": "completed"
    },
    "tags": []
   },
   "source": [
    "# Reading Data and Merging"
   ]
  },
  {
   "cell_type": "code",
   "execution_count": 2,
   "metadata": {
    "execution": {
     "iopub.execute_input": "2021-06-23T12:53:24.983907Z",
     "iopub.status.busy": "2021-06-23T12:53:24.983129Z",
     "iopub.status.idle": "2021-06-23T12:53:28.039029Z",
     "shell.execute_reply": "2021-06-23T12:53:28.038385Z",
     "shell.execute_reply.started": "2021-06-22T16:58:28.536894Z"
    },
    "id": "7BKRuJ0nPBJf",
    "papermill": {
     "duration": 3.099185,
     "end_time": "2021-06-23T12:53:28.039143",
     "exception": false,
     "start_time": "2021-06-23T12:53:24.939958",
     "status": "completed"
    },
    "tags": []
   },
   "outputs": [],
   "source": [
    "train_df = pd.read_excel('/kaggle/input/cs412-fall2020/train.xlsx')\n",
    "test_df = pd.read_excel('/kaggle/input/cs412-fall2020/test.xlsx')\n"
   ]
  },
  {
   "cell_type": "markdown",
   "metadata": {
    "id": "_gOPFkF-PBJj",
    "papermill": {
     "duration": 0.037011,
     "end_time": "2021-06-23T12:53:28.115847",
     "exception": false,
     "start_time": "2021-06-23T12:53:28.078836",
     "status": "completed"
    },
    "tags": []
   },
   "source": [
    "We pop the label data from train data. "
   ]
  },
  {
   "cell_type": "code",
   "execution_count": 3,
   "metadata": {
    "execution": {
     "iopub.execute_input": "2021-06-23T12:53:28.201478Z",
     "iopub.status.busy": "2021-06-23T12:53:28.200838Z",
     "iopub.status.idle": "2021-06-23T12:53:28.238156Z",
     "shell.execute_reply": "2021-06-23T12:53:28.237568Z",
     "shell.execute_reply.started": "2021-06-22T16:58:33.720199Z"
    },
    "id": "s3CX2MIoPBJk",
    "papermill": {
     "duration": 0.084277,
     "end_time": "2021-06-23T12:53:28.238278",
     "exception": false,
     "start_time": "2021-06-23T12:53:28.154001",
     "status": "completed"
    },
    "tags": []
   },
   "outputs": [],
   "source": [
    "train_df = train_df[train_df.Age != 0]# One person is 0 years old (should drop)\n",
    "train_df = train_df[train_df.Age != 1]# One person is 1 years old (should drop)\n",
    "test_df = test_df[test_df.Age != 0]\n",
    "test_df = test_df[test_df.Age != 1]\n",
    "\n",
    "count_row = train_df.shape[0]  # gives number of row count\n",
    "count_col = train_df.shape[1] \n",
    "y = train_df.pop(\"JobSatisfaction\")#label column\n",
    "\n"
   ]
  },
  {
   "cell_type": "markdown",
   "metadata": {
    "id": "T9k-AUtXPBJl",
    "papermill": {
     "duration": 0.038034,
     "end_time": "2021-06-23T12:53:28.313778",
     "exception": false,
     "start_time": "2021-06-23T12:53:28.275744",
     "status": "completed"
    },
    "tags": []
   },
   "source": [
    "Show the percentages of NaN values in each column"
   ]
  },
  {
   "cell_type": "code",
   "execution_count": 4,
   "metadata": {
    "execution": {
     "iopub.execute_input": "2021-06-23T12:53:28.394201Z",
     "iopub.status.busy": "2021-06-23T12:53:28.393564Z",
     "iopub.status.idle": "2021-06-23T12:53:28.414801Z",
     "shell.execute_reply": "2021-06-23T12:53:28.415293Z",
     "shell.execute_reply.started": "2021-06-22T16:58:33.770676Z"
    },
    "id": "2Ig9rEI9PBJs",
    "outputId": "c59e7c7c-1f04-42e6-d34e-f91a53666bc9",
    "papermill": {
     "duration": 0.062535,
     "end_time": "2021-06-23T12:53:28.415446",
     "exception": false,
     "start_time": "2021-06-23T12:53:28.352911",
     "status": "completed"
    },
    "tags": []
   },
   "outputs": [
    {
     "data": {
      "text/plain": [
       "ID                                         0.000000\n",
       "GenderSelect                               0.180930\n",
       "Country                                    0.289488\n",
       "Age                                        1.230324\n",
       "EmploymentStatus                           0.000000\n",
       "CodeWriter                                 0.000000\n",
       "CurrentJobTitleSelect                      0.036186\n",
       "TitleFit                                   1.845486\n",
       "CurrentEmployerType                        1.266510\n",
       "MLToolNextYearSelect                       4.161390\n",
       "MLMethodNextYearSelect                     5.011760\n",
       "LanguageRecommendationSelect               3.528135\n",
       "LearningPlatformUsefulnessBlogs           54.224715\n",
       "LearningPlatformUsefulnessKaggle          42.699475\n",
       "LearningPlatformUsefulnessCourses         46.788493\n",
       "LearningPlatformUsefulnessProjects        54.785598\n",
       "LearningPlatformUsefulnessSO              45.811471\n",
       "LearningPlatformUsefulnessTextbook        60.177311\n",
       "LearningPlatformUsefulnessYouTube         56.341596\n",
       "DataScienceIdentitySelect                 27.953682\n",
       "FormalEducation                            0.126651\n",
       "MajorSelect                                9.390266\n",
       "Tenure                                     0.253302\n",
       "PastJobTitlesSelect                        3.709065\n",
       "MLSkillsSelect                             4.939388\n",
       "MLTechniquesSelect                         5.626922\n",
       "EmployerIndustry                           0.217116\n",
       "EmployerSize                              10.512032\n",
       "WorkProductionFrequency                   11.326217\n",
       "WorkAlgorithmsSelect                       7.707617\n",
       "WorkToolsFrequencyPython                  23.177130\n",
       "WorkToolsFrequencyR                       39.297992\n",
       "WorkToolsFrequencySQL                     45.757192\n",
       "WorkMethodsFrequencyCross-Validation      49.339606\n",
       "WorkMethodsFrequencyDataVisualization     34.539533\n",
       "WorkMethodsFrequencyDecisionTrees         51.999276\n",
       "WorkMethodsFrequencyLogisticRegression    43.477474\n",
       "WorkMethodsFrequencyNeuralNetworks        64.429166\n",
       "WorkMethodsFrequencyPCA                   62.999819\n",
       "WorkMethodsFrequencyRandomForests         54.749412\n",
       "WorkMethodsFrequencyTimeSeriesAnalysis    58.512756\n",
       "WorkChallengeFrequencyPolitics            62.185634\n",
       "WorkChallengeFrequencyUnusedResults       75.411616\n",
       "WorkChallengeFrequencyDirtyData           49.918582\n",
       "WorkChallengeFrequencyExplaining          77.401845\n",
       "WorkChallengeFrequencyTalent              57.228153\n",
       "WorkChallengeFrequencyClarity             68.825764\n",
       "WorkChallengeFrequencyDataAccess          68.898136\n",
       "CompensationScore                         20.915506\n",
       "WorkDataVisualizations                     0.524697\n",
       "WorkInternalVsExternalTools                2.098788\n",
       "WorkMLTeamSeatSelect                       2.931066\n",
       "RemoteWork                                10.530125\n",
       "dtype: float64"
      ]
     },
     "execution_count": 4,
     "metadata": {},
     "output_type": "execute_result"
    }
   ],
   "source": [
    "train_df.isnull().mean() * 100"
   ]
  },
  {
   "cell_type": "markdown",
   "metadata": {
    "id": "-8-eO0opzevx",
    "papermill": {
     "duration": 0.038184,
     "end_time": "2021-06-23T12:53:28.492992",
     "exception": false,
     "start_time": "2021-06-23T12:53:28.454808",
     "status": "completed"
    },
    "tags": []
   },
   "source": [
    "## Dropping Column with High perncentage of null values"
   ]
  },
  {
   "cell_type": "markdown",
   "metadata": {
    "id": "LGWzlG6FPBJw",
    "papermill": {
     "duration": 0.039667,
     "end_time": "2021-06-23T12:53:28.572391",
     "exception": false,
     "start_time": "2021-06-23T12:53:28.532724",
     "status": "completed"
    },
    "tags": []
   },
   "source": [
    "We drop the datas which have got null value percentage higher than %35 percentages (which are not important)"
   ]
  },
  {
   "cell_type": "code",
   "execution_count": 5,
   "metadata": {
    "execution": {
     "iopub.execute_input": "2021-06-23T12:53:28.653596Z",
     "iopub.status.busy": "2021-06-23T12:53:28.653008Z",
     "iopub.status.idle": "2021-06-23T12:53:28.666379Z",
     "shell.execute_reply": "2021-06-23T12:53:28.666904Z",
     "shell.execute_reply.started": "2021-06-22T16:58:33.809729Z"
    },
    "id": "7WnYNuCmPBJ1",
    "papermill": {
     "duration": 0.055089,
     "end_time": "2021-06-23T12:53:28.667066",
     "exception": false,
     "start_time": "2021-06-23T12:53:28.611977",
     "status": "completed"
    },
    "tags": []
   },
   "outputs": [],
   "source": [
    "\n",
    "train_df = train_df.drop(columns=[\n",
    "                \"WorkMethodsFrequencyCross-Validation\",\n",
    "                 \"WorkMethodsFrequencyDataVisualization\",\"WorkMethodsFrequencyDecisionTrees\",\n",
    "                 \"WorkMethodsFrequencyLogisticRegression\",\"WorkMethodsFrequencyNeuralNetworks\",\n",
    "                \"WorkMethodsFrequencyPCA\",\"WorkMethodsFrequencyRandomForests\",\n",
    "                 \"WorkMethodsFrequencyTimeSeriesAnalysis\"])\n",
    "train_df = train_df.reset_index(drop=True)\n",
    "\n",
    "test_df = test_df.drop(columns=[\n",
    "                \"WorkMethodsFrequencyCross-Validation\",\n",
    "                 \"WorkMethodsFrequencyDataVisualization\",\"WorkMethodsFrequencyDecisionTrees\",\n",
    "                 \"WorkMethodsFrequencyLogisticRegression\",\"WorkMethodsFrequencyNeuralNetworks\",\n",
    "                \"WorkMethodsFrequencyPCA\",\"WorkMethodsFrequencyRandomForests\",\n",
    "                 \"WorkMethodsFrequencyTimeSeriesAnalysis\"])\n",
    "test_df = test_df.reset_index(drop=True)"
   ]
  },
  {
   "cell_type": "markdown",
   "metadata": {
    "id": "dn0kQ8yAPBJ2",
    "papermill": {
     "duration": 0.037856,
     "end_time": "2021-06-23T12:53:28.744099",
     "exception": false,
     "start_time": "2021-06-23T12:53:28.706243",
     "status": "completed"
    },
    "tags": []
   },
   "source": [
    "# Handling with Features\n",
    "\n",
    "Label column is \"JobSatisfaction\".\n",
    "\n",
    "Numerical features are \"ID,Age,CompensationScore\"\n",
    "\n",
    "Other features are nominal or ordinal features."
   ]
  },
  {
   "cell_type": "markdown",
   "metadata": {
    "id": "LDqVkQNdzzeK",
    "papermill": {
     "duration": 0.039661,
     "end_time": "2021-06-23T12:53:28.821863",
     "exception": false,
     "start_time": "2021-06-23T12:53:28.782202",
     "status": "completed"
    },
    "tags": []
   },
   "source": [
    "## 2- Related Columns"
   ]
  },
  {
   "cell_type": "markdown",
   "metadata": {
    "id": "uNXaNF3xPBJ2",
    "papermill": {
     "duration": 0.038033,
     "end_time": "2021-06-23T12:53:28.898474",
     "exception": false,
     "start_time": "2021-06-23T12:53:28.860441",
     "status": "completed"
    },
    "tags": []
   },
   "source": [
    "This function is handle the nan values of two columns which are related with each other."
   ]
  },
  {
   "cell_type": "code",
   "execution_count": 6,
   "metadata": {
    "execution": {
     "iopub.execute_input": "2021-06-23T12:53:28.984149Z",
     "iopub.status.busy": "2021-06-23T12:53:28.983490Z",
     "iopub.status.idle": "2021-06-23T12:53:28.986245Z",
     "shell.execute_reply": "2021-06-23T12:53:28.986685Z",
     "shell.execute_reply.started": "2021-06-22T16:58:33.83099Z"
    },
    "id": "ErWDj8Icbjqk",
    "papermill": {
     "duration": 0.050539,
     "end_time": "2021-06-23T12:53:28.986822",
     "exception": false,
     "start_time": "2021-06-23T12:53:28.936283",
     "status": "completed"
    },
    "tags": []
   },
   "outputs": [],
   "source": [
    "def comparefornull(change,effects,df_to_change):\n",
    "    tool_df = train_df.groupby(by=[effects]).sum()   \n",
    "    ml_df = train_df[[change,effects]]\n",
    "    tools = []\n",
    "    for row in tool_df.index: \n",
    "        tools.append(row)\n",
    "    ml_dict = dict((l,0) for l in tools)\n",
    "\n",
    "\n",
    "    for i in tools:\n",
    "        sub_df = ml_df[ml_df[effects]== i]\n",
    "        frequent = sub_df[change].mode().values[0]\n",
    "        ml_dict[i] = frequent\n",
    "\n",
    "\n",
    "    fill_df = df_to_change[[change,effects]]\n",
    "    is_NaN = fill_df.isnull().any(axis=1)\n",
    "    rows_with_NaN = fill_df[is_NaN]\n",
    "\n",
    "\n",
    "    for i,row in rows_with_NaN.iterrows():\n",
    "        if pd.isna(row[change]) == True:\n",
    "            if pd.isna(row[effects]) == False:\n",
    "                df_to_change.loc[i,change] = ml_dict[row[effects]]"
   ]
  },
  {
   "cell_type": "code",
   "execution_count": 7,
   "metadata": {
    "execution": {
     "iopub.execute_input": "2021-06-23T12:53:29.074887Z",
     "iopub.status.busy": "2021-06-23T12:53:29.074289Z",
     "iopub.status.idle": "2021-06-23T12:53:29.312278Z",
     "shell.execute_reply": "2021-06-23T12:53:29.311777Z",
     "shell.execute_reply.started": "2021-06-22T16:58:33.846271Z"
    },
    "id": "CyDxpw4mPBJ5",
    "papermill": {
     "duration": 0.283866,
     "end_time": "2021-06-23T12:53:29.312395",
     "exception": false,
     "start_time": "2021-06-23T12:53:29.028529",
     "status": "completed"
    },
    "tags": []
   },
   "outputs": [],
   "source": [
    "comparefornull(\"TitleFit\",\"CurrentJobTitleSelect\",train_df)\n",
    "comparefornull(\"CurrentJobTitleSelect\",\"DataScienceIdentitySelect\",train_df)\n",
    "\n",
    "comparefornull(\"TitleFit\",\"CurrentJobTitleSelect\",test_df)\n",
    "comparefornull(\"CurrentJobTitleSelect\",\"DataScienceIdentitySelect\",test_df)\n"
   ]
  },
  {
   "cell_type": "markdown",
   "metadata": {
    "id": "IhTZL70WhlLc",
    "papermill": {
     "duration": 0.037462,
     "end_time": "2021-06-23T12:53:29.388137",
     "exception": false,
     "start_time": "2021-06-23T12:53:29.350675",
     "status": "completed"
    },
    "tags": []
   },
   "source": [
    "## Merge Test and Train Data"
   ]
  },
  {
   "cell_type": "markdown",
   "metadata": {
    "id": "NtgGINfDhj1V",
    "papermill": {
     "duration": 0.037609,
     "end_time": "2021-06-23T12:53:29.463776",
     "exception": false,
     "start_time": "2021-06-23T12:53:29.426167",
     "status": "completed"
    },
    "tags": []
   },
   "source": [
    "We merge train data and test data to do the operations on the data once."
   ]
  },
  {
   "cell_type": "code",
   "execution_count": 8,
   "metadata": {
    "execution": {
     "iopub.execute_input": "2021-06-23T12:53:29.548008Z",
     "iopub.status.busy": "2021-06-23T12:53:29.547364Z",
     "iopub.status.idle": "2021-06-23T12:53:29.558122Z",
     "shell.execute_reply": "2021-06-23T12:53:29.557601Z",
     "shell.execute_reply.started": "2021-06-22T16:58:34.20554Z"
    },
    "id": "6p_7jzSTcAzi",
    "papermill": {
     "duration": 0.056572,
     "end_time": "2021-06-23T12:53:29.558272",
     "exception": false,
     "start_time": "2021-06-23T12:53:29.501700",
     "status": "completed"
    },
    "tags": []
   },
   "outputs": [],
   "source": [
    "frames = [train_df, test_df] #create a list and append train data and test data\n",
    "\n",
    "temp_df = pd.concat(frames) #merge databases in list\n",
    "temp_df = temp_df.reset_index(drop=True)\n"
   ]
  },
  {
   "cell_type": "markdown",
   "metadata": {
    "id": "eS63btWlz5Iv",
    "papermill": {
     "duration": 0.038042,
     "end_time": "2021-06-23T12:53:29.634476",
     "exception": false,
     "start_time": "2021-06-23T12:53:29.596434",
     "status": "completed"
    },
    "tags": []
   },
   "source": [
    "## Change Null Value with Mode of Column"
   ]
  },
  {
   "cell_type": "markdown",
   "metadata": {
    "id": "nYnm_hRePBJ5",
    "papermill": {
     "duration": 0.039003,
     "end_time": "2021-06-23T12:53:29.711706",
     "exception": false,
     "start_time": "2021-06-23T12:53:29.672703",
     "status": "completed"
    },
    "tags": []
   },
   "source": [
    "This funtion change the NaN values in a given column with mode value of that column."
   ]
  },
  {
   "cell_type": "code",
   "execution_count": 9,
   "metadata": {
    "execution": {
     "iopub.execute_input": "2021-06-23T12:53:29.793970Z",
     "iopub.status.busy": "2021-06-23T12:53:29.793087Z",
     "iopub.status.idle": "2021-06-23T12:53:29.796671Z",
     "shell.execute_reply": "2021-06-23T12:53:29.796090Z",
     "shell.execute_reply.started": "2021-06-22T16:58:34.227705Z"
    },
    "id": "Qz6VGxEfPBJ6",
    "papermill": {
     "duration": 0.046299,
     "end_time": "2021-06-23T12:53:29.796774",
     "exception": false,
     "start_time": "2021-06-23T12:53:29.750475",
     "status": "completed"
    },
    "tags": []
   },
   "outputs": [],
   "source": [
    "def moder (column):\n",
    "    temp_df[column] = temp_df[column].fillna(train_df[column].mode()[0])"
   ]
  },
  {
   "cell_type": "code",
   "execution_count": 10,
   "metadata": {
    "execution": {
     "iopub.execute_input": "2021-06-23T12:53:29.891013Z",
     "iopub.status.busy": "2021-06-23T12:53:29.884777Z",
     "iopub.status.idle": "2021-06-23T12:53:29.922881Z",
     "shell.execute_reply": "2021-06-23T12:53:29.922384Z",
     "shell.execute_reply.started": "2021-06-22T16:58:34.240292Z"
    },
    "id": "JpYaoMGBPBJ9",
    "papermill": {
     "duration": 0.088364,
     "end_time": "2021-06-23T12:53:29.923019",
     "exception": false,
     "start_time": "2021-06-23T12:53:29.834655",
     "status": "completed"
    },
    "tags": []
   },
   "outputs": [],
   "source": [
    "moder(\"GenderSelect\")\n",
    "moder(\"Country\")\n",
    "moder(\"EmploymentStatus\")\n",
    "moder(\"CodeWriter\")\n",
    "moder(\"CurrentJobTitleSelect\")\n",
    "moder(\"TitleFit\")\n",
    "moder(\"CurrentEmployerType\")\n",
    "moder(\"MLToolNextYearSelect\")\n",
    "moder(\"MLMethodNextYearSelect\")\n",
    "moder(\"LanguageRecommendationSelect\")\n",
    "moder(\"DataScienceIdentitySelect\")\n",
    "moder(\"FormalEducation\")\n",
    "moder(\"MajorSelect\")\n",
    "moder(\"Tenure\")\n",
    "moder(\"PastJobTitlesSelect\")\n",
    "moder(\"MLSkillsSelect\")\n",
    "moder(\"MLTechniquesSelect\")\n",
    "moder(\"EmployerIndustry\")\n",
    "moder(\"EmployerSize\")\n",
    "moder(\"WorkProductionFrequency\")\n",
    "moder(\"WorkAlgorithmsSelect\")\n",
    "moder(\"WorkDataVisualizations\")\n",
    "moder(\"WorkInternalVsExternalTools\")\n",
    "moder(\"WorkMLTeamSeatSelect\")\n",
    "moder(\"RemoteWork\")\n",
    "moder(\"Age\")\n",
    "moder(\"CompensationScore\")\n",
    "\n",
    "temp_df[\"CurrentEmployerType\"]= temp_df[\"CurrentEmployerType\"].astype(str)\n"
   ]
  },
  {
   "cell_type": "markdown",
   "metadata": {
    "id": "rscoKrOPPBJ-",
    "papermill": {
     "duration": 0.037271,
     "end_time": "2021-06-23T12:53:29.998228",
     "exception": false,
     "start_time": "2021-06-23T12:53:29.960957",
     "status": "completed"
    },
    "tags": []
   },
   "source": [
    "## Map Ordinal Features' Columns:\n",
    "\n",
    "DataScienceIdentitySelect, CodeWriter, TitleFit, Tenure,\n",
    "\n",
    "EmployerSize, WorkProductionFrequency, WorkToolsFrequencyPython, \n",
    "\n",
    "WorkDataVisualizations, RemoteWork, FormalEducation"
   ]
  },
  {
   "cell_type": "code",
   "execution_count": 11,
   "metadata": {
    "execution": {
     "iopub.execute_input": "2021-06-23T12:53:30.087879Z",
     "iopub.status.busy": "2021-06-23T12:53:30.086914Z",
     "iopub.status.idle": "2021-06-23T12:53:30.092462Z",
     "shell.execute_reply": "2021-06-23T12:53:30.091822Z",
     "shell.execute_reply.started": "2021-06-22T16:58:34.313721Z"
    },
    "id": "FM42fzG9PBJ_",
    "papermill": {
     "duration": 0.053417,
     "end_time": "2021-06-23T12:53:30.092575",
     "exception": false,
     "start_time": "2021-06-23T12:53:30.039158",
     "status": "completed"
    },
    "tags": []
   },
   "outputs": [],
   "source": [
    "DataScienceIdentitySelect_map = {'No':0,'Yes':2,'Sort of (Explain more)':1}\n",
    "temp_df['DataScienceIdentitySelect'] = temp_df['DataScienceIdentitySelect'].replace(DataScienceIdentitySelect_map)\n",
    "\n"
   ]
  },
  {
   "cell_type": "code",
   "execution_count": 12,
   "metadata": {
    "execution": {
     "iopub.execute_input": "2021-06-23T12:53:30.176481Z",
     "iopub.status.busy": "2021-06-23T12:53:30.175825Z",
     "iopub.status.idle": "2021-06-23T12:53:30.181265Z",
     "shell.execute_reply": "2021-06-23T12:53:30.180781Z",
     "shell.execute_reply.started": "2021-06-22T16:58:34.327728Z"
    },
    "id": "NxvwYeWxPBKB",
    "papermill": {
     "duration": 0.050697,
     "end_time": "2021-06-23T12:53:30.181388",
     "exception": false,
     "start_time": "2021-06-23T12:53:30.130691",
     "status": "completed"
    },
    "tags": []
   },
   "outputs": [],
   "source": [
    "Codewriter_map = {'No':0,'Yes':1}\n",
    "temp_df['CodeWriter'] = temp_df['CodeWriter'].replace(Codewriter_map)\n",
    "\n",
    "\n"
   ]
  },
  {
   "cell_type": "code",
   "execution_count": 13,
   "metadata": {
    "execution": {
     "iopub.execute_input": "2021-06-23T12:53:30.265810Z",
     "iopub.status.busy": "2021-06-23T12:53:30.265196Z",
     "iopub.status.idle": "2021-06-23T12:53:30.270355Z",
     "shell.execute_reply": "2021-06-23T12:53:30.269758Z",
     "shell.execute_reply.started": "2021-06-22T16:58:34.348457Z"
    },
    "id": "DeaUOem5PBKD",
    "papermill": {
     "duration": 0.051298,
     "end_time": "2021-06-23T12:53:30.270460",
     "exception": false,
     "start_time": "2021-06-23T12:53:30.219162",
     "status": "completed"
    },
    "tags": []
   },
   "outputs": [],
   "source": [
    "TitleFit_map = {'Fine':1,'Perfectly':2,'Poorly':0}\n",
    "temp_df['TitleFit'] = temp_df['TitleFit'].replace(TitleFit_map)\n",
    "\n"
   ]
  },
  {
   "cell_type": "code",
   "execution_count": 14,
   "metadata": {
    "execution": {
     "iopub.execute_input": "2021-06-23T12:53:30.356708Z",
     "iopub.status.busy": "2021-06-23T12:53:30.355945Z",
     "iopub.status.idle": "2021-06-23T12:53:30.361430Z",
     "shell.execute_reply": "2021-06-23T12:53:30.360765Z",
     "shell.execute_reply.started": "2021-06-22T16:58:34.369817Z"
    },
    "id": "f5Hy2iEgPBKF",
    "papermill": {
     "duration": 0.053377,
     "end_time": "2021-06-23T12:53:30.361544",
     "exception": false,
     "start_time": "2021-06-23T12:53:30.308167",
     "status": "completed"
    },
    "tags": []
   },
   "outputs": [],
   "source": [
    "Tenure_map = {'1 to 2 years':2,'3 to 5 years':3,'6 to 10 years':4,\n",
    "          \"I don't write code to analyze data\":0,'Less than a year':1,\n",
    "          'More than 10 years':5}\n",
    "temp_df['Tenure'] = temp_df['Tenure'].replace(Tenure_map)\n"
   ]
  },
  {
   "cell_type": "code",
   "execution_count": 15,
   "metadata": {
    "execution": {
     "iopub.execute_input": "2021-06-23T12:53:30.445964Z",
     "iopub.status.busy": "2021-06-23T12:53:30.445278Z",
     "iopub.status.idle": "2021-06-23T12:53:30.453818Z",
     "shell.execute_reply": "2021-06-23T12:53:30.454376Z",
     "shell.execute_reply.started": "2021-06-22T16:58:34.392002Z"
    },
    "id": "zlR4MgavPBKH",
    "papermill": {
     "duration": 0.053399,
     "end_time": "2021-06-23T12:53:30.454525",
     "exception": false,
     "start_time": "2021-06-23T12:53:30.401126",
     "status": "completed"
    },
    "tags": []
   },
   "outputs": [],
   "source": [
    "EmployerSize_map = {'1,000 to 4,999 employees':7,'10 to 19 employees':3,\n",
    "              '10,000 or more employees':9,\"100 to 499 employees\":5,\n",
    "              '20 to 99 employees':4,'5,000 to 9,999 employees':8,\n",
    "              '500 to 999 employees':6,'Fewer than 10 employees':2,\n",
    "              \"I don't know\":1,'I prefer not to answer':0}\n",
    "temp_df['EmployerSize'] = temp_df['EmployerSize'].replace(EmployerSize_map)\n"
   ]
  },
  {
   "cell_type": "code",
   "execution_count": 16,
   "metadata": {
    "execution": {
     "iopub.execute_input": "2021-06-23T12:53:30.535160Z",
     "iopub.status.busy": "2021-06-23T12:53:30.534444Z",
     "iopub.status.idle": "2021-06-23T12:53:30.544996Z",
     "shell.execute_reply": "2021-06-23T12:53:30.545523Z",
     "shell.execute_reply.started": "2021-06-22T16:58:34.415426Z"
    },
    "id": "-gnf0W2sPBKI",
    "papermill": {
     "duration": 0.051762,
     "end_time": "2021-06-23T12:53:30.545669",
     "exception": false,
     "start_time": "2021-06-23T12:53:30.493907",
     "status": "completed"
    },
    "tags": []
   },
   "outputs": [],
   "source": [
    "wpf_map = {'Always':5,'Most of the time':4,\n",
    "              'Never':1,\"Don't know\":0,\n",
    "              'Sometimes':3,'Rarely':2}\n",
    "temp_df['WorkProductionFrequency'] = temp_df['WorkProductionFrequency'].replace(wpf_map)\n"
   ]
  },
  {
   "cell_type": "code",
   "execution_count": 17,
   "metadata": {
    "execution": {
     "iopub.execute_input": "2021-06-23T12:53:30.625364Z",
     "iopub.status.busy": "2021-06-23T12:53:30.624689Z",
     "iopub.status.idle": "2021-06-23T12:53:30.634513Z",
     "shell.execute_reply": "2021-06-23T12:53:30.635030Z",
     "shell.execute_reply.started": "2021-06-22T16:58:34.435848Z"
    },
    "id": "uL-RNiwCPBKO",
    "papermill": {
     "duration": 0.050976,
     "end_time": "2021-06-23T12:53:30.635184",
     "exception": false,
     "start_time": "2021-06-23T12:53:30.584208",
     "status": "completed"
    },
    "tags": []
   },
   "outputs": [],
   "source": [
    "visual_map = {'51-75% of projects':4,\"76-99% of projects\":5,\n",
    "              '26-50% of projects':3,'10-25% of projects':2,\n",
    "              \"Less than 10% of projects\":1,'None':0,'100% of projects':6}\n",
    "temp_df['WorkDataVisualizations'] = temp_df['WorkDataVisualizations'].replace(visual_map)\n"
   ]
  },
  {
   "cell_type": "code",
   "execution_count": 18,
   "metadata": {
    "execution": {
     "iopub.execute_input": "2021-06-23T12:53:30.714903Z",
     "iopub.status.busy": "2021-06-23T12:53:30.714330Z",
     "iopub.status.idle": "2021-06-23T12:53:30.723359Z",
     "shell.execute_reply": "2021-06-23T12:53:30.723855Z",
     "shell.execute_reply.started": "2021-06-22T16:58:34.453086Z"
    },
    "id": "O7lGzeMbPBKQ",
    "papermill": {
     "duration": 0.050574,
     "end_time": "2021-06-23T12:53:30.724017",
     "exception": false,
     "start_time": "2021-06-23T12:53:30.673443",
     "status": "completed"
    },
    "tags": []
   },
   "outputs": [],
   "source": [
    "RemoteWork_map = {'Always':5,'Most of the time':4,\n",
    "              'Never':1,\"Don't know\":0,\n",
    "              'Sometimes':3,'Rarely':2}\n",
    "temp_df['RemoteWork'] = temp_df['RemoteWork'].replace(RemoteWork_map)\n"
   ]
  },
  {
   "cell_type": "code",
   "execution_count": 19,
   "metadata": {
    "execution": {
     "iopub.execute_input": "2021-06-23T12:53:30.804337Z",
     "iopub.status.busy": "2021-06-23T12:53:30.803715Z",
     "iopub.status.idle": "2021-06-23T12:53:30.814320Z",
     "shell.execute_reply": "2021-06-23T12:53:30.814809Z",
     "shell.execute_reply.started": "2021-06-22T16:58:34.474717Z"
    },
    "id": "zWEeVa_-PBKR",
    "papermill": {
     "duration": 0.052501,
     "end_time": "2021-06-23T12:53:30.814974",
     "exception": false,
     "start_time": "2021-06-23T12:53:30.762473",
     "status": "completed"
    },
    "tags": []
   },
   "outputs": [],
   "source": [
    "edu_map = {'Doctoral degree':6,\"Master's degree\":5,\n",
    "              \"Bachelor's degree\":3,\"Professional degree\":4,\n",
    "              'I did not complete any formal education past high school':1,\n",
    "           'I prefer not to answer':0,\n",
    "           \"Some college/university study without earning a bachelor's degree\":2}\n",
    "temp_df['FormalEducation'] = temp_df['FormalEducation'].replace(edu_map)\n"
   ]
  },
  {
   "cell_type": "code",
   "execution_count": 20,
   "metadata": {
    "execution": {
     "iopub.execute_input": "2021-06-23T12:53:30.893882Z",
     "iopub.status.busy": "2021-06-23T12:53:30.893318Z",
     "iopub.status.idle": "2021-06-23T12:53:30.897667Z",
     "shell.execute_reply": "2021-06-23T12:53:30.898144Z",
     "shell.execute_reply.started": "2021-06-22T16:58:34.494528Z"
    },
    "id": "oysASoghPK5D",
    "papermill": {
     "duration": 0.045595,
     "end_time": "2021-06-23T12:53:30.898295",
     "exception": false,
     "start_time": "2021-06-23T12:53:30.852700",
     "status": "completed"
    },
    "tags": []
   },
   "outputs": [],
   "source": [
    "def learnplatf(col_name):\n",
    "  wtfpython_map = {'Very useful':2,\n",
    "              'Somewhat useful':1,'Not Useful':0}\n",
    "  temp_df[col_name] = temp_df[col_name].replace(wtfpython_map)"
   ]
  },
  {
   "cell_type": "code",
   "execution_count": 21,
   "metadata": {
    "execution": {
     "iopub.execute_input": "2021-06-23T12:53:30.977065Z",
     "iopub.status.busy": "2021-06-23T12:53:30.976480Z",
     "iopub.status.idle": "2021-06-23T12:53:30.982177Z",
     "shell.execute_reply": "2021-06-23T12:53:30.981655Z",
     "shell.execute_reply.started": "2021-06-22T16:58:34.507161Z"
    },
    "id": "c7BIzlS-Bz1h",
    "papermill": {
     "duration": 0.046068,
     "end_time": "2021-06-23T12:53:30.982306",
     "exception": false,
     "start_time": "2021-06-23T12:53:30.936238",
     "status": "completed"
    },
    "tags": []
   },
   "outputs": [],
   "source": [
    "def workchallenge(col_name):\n",
    "  wtfpython_map = {'Often':3,'Most of the time':4,\n",
    "              'Sometimes':2,'Rarely':1}\n",
    "  temp_df[col_name] = temp_df[col_name].replace(wtfpython_map)\n"
   ]
  },
  {
   "cell_type": "code",
   "execution_count": 22,
   "metadata": {
    "execution": {
     "iopub.execute_input": "2021-06-23T12:53:31.066220Z",
     "iopub.status.busy": "2021-06-23T12:53:31.065578Z",
     "iopub.status.idle": "2021-06-23T12:53:31.134851Z",
     "shell.execute_reply": "2021-06-23T12:53:31.135348Z",
     "shell.execute_reply.started": "2021-06-22T16:58:34.52175Z"
    },
    "id": "BQQSrniDA1xI",
    "outputId": "467b39d2-6d70-404b-cba5-8274fcb49ee6",
    "papermill": {
     "duration": 0.115046,
     "end_time": "2021-06-23T12:53:31.135488",
     "exception": false,
     "start_time": "2021-06-23T12:53:31.020442",
     "status": "completed"
    },
    "tags": []
   },
   "outputs": [],
   "source": [
    "workchallenge(\"WorkChallengeFrequencyPolitics\")\n",
    "workchallenge(\"WorkChallengeFrequencyUnusedResults\")\n",
    "workchallenge(\"WorkChallengeFrequencyDirtyData\")\n",
    "workchallenge(\"WorkChallengeFrequencyExplaining\")\n",
    "workchallenge(\"WorkChallengeFrequencyTalent\")\n",
    "workchallenge(\"WorkChallengeFrequencyClarity\")\n",
    "workchallenge(\"WorkChallengeFrequencyDataAccess\")\n",
    "\n",
    "workchallenge(\"WorkToolsFrequencySQL\")\n",
    "workchallenge(\"WorkToolsFrequencyR\")\n",
    "workchallenge(\"WorkToolsFrequencyPython\")\n",
    "\n",
    "learnplatf(\"LearningPlatformUsefulnessBlogs\")\n",
    "learnplatf(\"LearningPlatformUsefulnessKaggle\")\n",
    "learnplatf(\"LearningPlatformUsefulnessCourses\")\n",
    "learnplatf(\"LearningPlatformUsefulnessProjects\")\n",
    "learnplatf(\"LearningPlatformUsefulnessSO\")\n",
    "learnplatf(\"LearningPlatformUsefulnessTextbook\")\n",
    "learnplatf(\"LearningPlatformUsefulnessYouTube\")\n",
    "\n"
   ]
  },
  {
   "cell_type": "code",
   "execution_count": 23,
   "metadata": {
    "execution": {
     "iopub.execute_input": "2021-06-23T12:53:31.219720Z",
     "iopub.status.busy": "2021-06-23T12:53:31.218079Z",
     "iopub.status.idle": "2021-06-23T12:53:31.227737Z",
     "shell.execute_reply": "2021-06-23T12:53:31.228241Z",
     "shell.execute_reply.started": "2021-06-22T16:58:34.6248Z"
    },
    "id": "z9sKMIPMCYqT",
    "papermill": {
     "duration": 0.055167,
     "end_time": "2021-06-23T12:53:31.228386",
     "exception": false,
     "start_time": "2021-06-23T12:53:31.173219",
     "status": "completed"
    },
    "tags": []
   },
   "outputs": [],
   "source": [
    "def moderforwork (column):\n",
    "    temp_df[column] = temp_df[column].fillna(0)\n",
    "\n",
    "moderforwork(\"WorkChallengeFrequencyPolitics\")\n",
    "moderforwork(\"WorkChallengeFrequencyUnusedResults\")\n",
    "moderforwork(\"WorkChallengeFrequencyDirtyData\")\n",
    "moderforwork(\"WorkChallengeFrequencyExplaining\")\n",
    "moderforwork(\"WorkChallengeFrequencyTalent\")\n",
    "moderforwork(\"WorkChallengeFrequencyClarity\")\n",
    "moderforwork(\"WorkChallengeFrequencyDataAccess\")\n",
    "\n",
    "moderforwork(\"WorkToolsFrequencySQL\")\n",
    "moderforwork(\"WorkToolsFrequencyR\")\n",
    "moderforwork(\"WorkToolsFrequencyPython\")\n",
    "\n",
    "moderforwork(\"LearningPlatformUsefulnessBlogs\")\n",
    "moderforwork(\"LearningPlatformUsefulnessKaggle\")\n",
    "moderforwork(\"LearningPlatformUsefulnessCourses\")\n",
    "moderforwork(\"LearningPlatformUsefulnessProjects\")\n",
    "moderforwork(\"LearningPlatformUsefulnessSO\")\n",
    "moderforwork(\"LearningPlatformUsefulnessTextbook\")\n",
    "moderforwork(\"LearningPlatformUsefulnessYouTube\")\n",
    "\n"
   ]
  },
  {
   "cell_type": "markdown",
   "metadata": {
    "id": "vXRcwHyF7hXf",
    "papermill": {
     "duration": 0.03738,
     "end_time": "2021-06-23T12:53:31.304952",
     "exception": false,
     "start_time": "2021-06-23T12:53:31.267572",
     "status": "completed"
    },
    "tags": []
   },
   "source": [
    "## Grouping Age Column and Mapping"
   ]
  },
  {
   "cell_type": "code",
   "execution_count": 24,
   "metadata": {
    "execution": {
     "iopub.execute_input": "2021-06-23T12:53:31.383967Z",
     "iopub.status.busy": "2021-06-23T12:53:31.383300Z",
     "iopub.status.idle": "2021-06-23T12:53:31.394880Z",
     "shell.execute_reply": "2021-06-23T12:53:31.395363Z",
     "shell.execute_reply.started": "2021-06-22T16:58:34.641207Z"
    },
    "id": "HmGnNg2O7JxS",
    "papermill": {
     "duration": 0.052549,
     "end_time": "2021-06-23T12:53:31.395504",
     "exception": false,
     "start_time": "2021-06-23T12:53:31.342955",
     "status": "completed"
    },
    "tags": []
   },
   "outputs": [],
   "source": [
    "bins= [13,30,50,101]\n",
    "labels = ['Young','Adult','Old']\n",
    "temp_df['Age'] = pd.cut(temp_df['Age'], bins=bins, labels=labels, right=False)\n",
    "\n",
    "Age_map = {'Old':2,'Young':0,'Adult':1}\n",
    "temp_df['Age'] = temp_df['Age'].replace(Age_map)\n",
    "\n"
   ]
  },
  {
   "cell_type": "markdown",
   "metadata": {
    "id": "uLuMy9kGPBKT",
    "papermill": {
     "duration": 0.037968,
     "end_time": "2021-06-23T12:53:31.471330",
     "exception": false,
     "start_time": "2021-06-23T12:53:31.433362",
     "status": "completed"
    },
    "tags": []
   },
   "source": [
    "# Nominal Features\n",
    "\n",
    "\"GenderSelect\", \"Country\",\n",
    "\n",
    "\"EmploymentStatus\",\"CurrentJobTitleSelect\", \n",
    "                                             \n",
    "\"CurrentEmployerType\",\"MLToolNextYearSelect**\",\n",
    "                                             \n",
    "\"MLMethodNextYearSelect\",\"LanguageRecommendationSelect\",\n",
    "                                             \n",
    "\"MajorSelect\",\"PastJobTitlesSelect\",\n",
    "                                             \n",
    "\"MLSkillsSelect\",\"MLTechniquesSelect\",\"EmployerIndustry\",\n",
    "                                             \n",
    "\"WorkAlgorithmsSelect\",\"WorkInternalVsExternalTools\",\n",
    "\n",
    "\"WorkMLTeamSeatSelect\""
   ]
  },
  {
   "cell_type": "markdown",
   "metadata": {
    "id": "1rJqLzaM0wqz",
    "papermill": {
     "duration": 0.037139,
     "end_time": "2021-06-23T12:53:31.546158",
     "exception": false,
     "start_time": "2021-06-23T12:53:31.509019",
     "status": "completed"
    },
    "tags": []
   },
   "source": [
    "## Handle the Columns that have got more than one value"
   ]
  },
  {
   "cell_type": "code",
   "execution_count": 25,
   "metadata": {
    "execution": {
     "iopub.execute_input": "2021-06-23T12:53:31.630068Z",
     "iopub.status.busy": "2021-06-23T12:53:31.629400Z",
     "iopub.status.idle": "2021-06-23T12:53:31.633064Z",
     "shell.execute_reply": "2021-06-23T12:53:31.632401Z",
     "shell.execute_reply.started": "2021-06-22T16:58:34.660951Z"
    },
    "id": "xicpmGslPBKV",
    "papermill": {
     "duration": 0.049351,
     "end_time": "2021-06-23T12:53:31.633183",
     "exception": false,
     "start_time": "2021-06-23T12:53:31.583832",
     "status": "completed"
    },
    "tags": []
   },
   "outputs": [],
   "source": [
    "def splitter(col_name):\n",
    "  emp_list = temp_df[col_name].unique()\n",
    "  emp_list = [i.split(',') for i in emp_list] \n",
    "  temp_df[col_name] = temp_df[col_name].str.split(\",\")\n",
    "  emp_list = [j for i in emp_list for j in i]\n",
    "  emp_list = list(set(emp_list))\n",
    "  return emp_list\n",
    "\n",
    "def create_col(col):\n",
    "  temp_df[col] = 0\n",
    "\n",
    "def change_values(list_name,col_name):\n",
    "  for i in list_name:\n",
    "    create_col(i)\n",
    "\n",
    "  for i in range(len(temp_df)):\n",
    "    t_list = []\n",
    "    t_list = temp_df.loc[i,col_name]\n",
    "    for k in range(len(t_list)):\n",
    "      temp_df.loc[i, t_list[k]] = 1\n"
   ]
  },
  {
   "cell_type": "code",
   "execution_count": 26,
   "metadata": {
    "execution": {
     "iopub.execute_input": "2021-06-23T12:53:31.715379Z",
     "iopub.status.busy": "2021-06-23T12:53:31.714791Z",
     "iopub.status.idle": "2021-06-23T12:53:38.979737Z",
     "shell.execute_reply": "2021-06-23T12:53:38.979207Z",
     "shell.execute_reply.started": "2021-06-22T16:58:34.674026Z"
    },
    "id": "7gzbz5_k3goI",
    "papermill": {
     "duration": 7.308556,
     "end_time": "2021-06-23T12:53:38.979858",
     "exception": false,
     "start_time": "2021-06-23T12:53:31.671302",
     "status": "completed"
    },
    "tags": []
   },
   "outputs": [],
   "source": [
    "\n",
    "\n",
    "list_work = splitter(\"CurrentEmployerType\")\n",
    "change_values(list_work,\"CurrentEmployerType\")\n",
    "\n",
    "list_work = splitter(\"WorkAlgorithmsSelect\")\n",
    "change_values(list_work,\"WorkAlgorithmsSelect\")\n"
   ]
  },
  {
   "cell_type": "markdown",
   "metadata": {
    "id": "eToUadrg09oU",
    "papermill": {
     "duration": 0.038524,
     "end_time": "2021-06-23T12:53:39.058416",
     "exception": false,
     "start_time": "2021-06-23T12:53:39.019892",
     "status": "completed"
    },
    "tags": []
   },
   "source": [
    "## Counting Map"
   ]
  },
  {
   "cell_type": "code",
   "execution_count": 27,
   "metadata": {
    "execution": {
     "iopub.execute_input": "2021-06-23T12:53:39.144890Z",
     "iopub.status.busy": "2021-06-23T12:53:39.142789Z",
     "iopub.status.idle": "2021-06-23T12:53:39.150130Z",
     "shell.execute_reply": "2021-06-23T12:53:39.149578Z",
     "shell.execute_reply.started": "2021-06-22T16:58:42.710579Z"
    },
    "id": "vXmMHKEzTPyZ",
    "outputId": "6731fa02-1eb5-46db-c71d-bdf004581a79",
    "papermill": {
     "duration": 0.053398,
     "end_time": "2021-06-23T12:53:39.150258",
     "exception": false,
     "start_time": "2021-06-23T12:53:39.096860",
     "status": "completed"
    },
    "tags": []
   },
   "outputs": [
    {
     "data": {
      "text/plain": [
       "{'Technology': 1082,\n",
       " 'Academic': 884,\n",
       " 'Financial': 580,\n",
       " 'Mix of fields': 532,\n",
       " 'Other': 521,\n",
       " 'Internet-based': 400,\n",
       " 'Government': 302,\n",
       " 'CRM/Marketing': 205,\n",
       " 'Manufacturing': 191,\n",
       " 'Telecommunications': 189,\n",
       " 'Insurance': 181,\n",
       " 'Retail': 152,\n",
       " 'Non-profit': 86,\n",
       " 'Pharmaceutical': 84,\n",
       " 'Hospitality/Entertainment/Sports': 63,\n",
       " 'Military/Security': 63}"
      ]
     },
     "execution_count": 27,
     "metadata": {},
     "output_type": "execute_result"
    }
   ],
   "source": [
    "frequency = train_df.EmployerIndustry.value_counts().to_dict()\n",
    "temp_df.EmployerIndustry=temp_df.EmployerIndustry.map(frequency)\n",
    "frequency\n"
   ]
  },
  {
   "cell_type": "code",
   "execution_count": 28,
   "metadata": {
    "execution": {
     "iopub.execute_input": "2021-06-23T12:53:39.238117Z",
     "iopub.status.busy": "2021-06-23T12:53:39.237042Z",
     "iopub.status.idle": "2021-06-23T12:53:39.241363Z",
     "shell.execute_reply": "2021-06-23T12:53:39.241784Z",
     "shell.execute_reply.started": "2021-06-22T16:58:42.725601Z"
    },
    "id": "A_kQOrP5KpZ_",
    "outputId": "3bb22b0d-4ec1-4816-ee67-3b86ccf8cedf",
    "papermill": {
     "duration": 0.053313,
     "end_time": "2021-06-23T12:53:39.241945",
     "exception": false,
     "start_time": "2021-06-23T12:53:39.188632",
     "status": "completed"
    },
    "tags": []
   },
   "outputs": [
    {
     "data": {
      "text/plain": [
       "{'Python': 3322,\n",
       " 'R': 1364,\n",
       " 'SQL': 220,\n",
       " 'C/C++/C#': 109,\n",
       " 'Matlab': 94,\n",
       " 'Scala': 60,\n",
       " 'Java': 47,\n",
       " 'SAS': 40,\n",
       " 'Other': 37,\n",
       " 'Julia': 15,\n",
       " 'Stata': 12,\n",
       " 'Haskell': 10,\n",
       " 'F#': 2}"
      ]
     },
     "execution_count": 28,
     "metadata": {},
     "output_type": "execute_result"
    }
   ],
   "source": [
    "frequency = train_df.LanguageRecommendationSelect.value_counts().to_dict()\n",
    "temp_df.LanguageRecommendationSelect=temp_df.LanguageRecommendationSelect.map(frequency)\n",
    "frequency"
   ]
  },
  {
   "cell_type": "markdown",
   "metadata": {
    "id": "jtHylFMk1FtC",
    "papermill": {
     "duration": 0.038911,
     "end_time": "2021-06-23T12:53:39.320453",
     "exception": false,
     "start_time": "2021-06-23T12:53:39.281542",
     "status": "completed"
    },
    "tags": []
   },
   "source": [
    "## Categorize Countries by their Continent"
   ]
  },
  {
   "cell_type": "code",
   "execution_count": 29,
   "metadata": {
    "execution": {
     "iopub.execute_input": "2021-06-23T12:53:39.406501Z",
     "iopub.status.busy": "2021-06-23T12:53:39.405855Z",
     "iopub.status.idle": "2021-06-23T12:53:39.459898Z",
     "shell.execute_reply": "2021-06-23T12:53:39.459218Z",
     "shell.execute_reply.started": "2021-06-22T16:58:42.740506Z"
    },
    "id": "9n9ullN4PI_g",
    "papermill": {
     "duration": 0.101079,
     "end_time": "2021-06-23T12:53:39.460037",
     "exception": false,
     "start_time": "2021-06-23T12:53:39.358958",
     "status": "completed"
    },
    "tags": []
   },
   "outputs": [],
   "source": [
    "def country_to_continent(country_name):\n",
    "    country_alpha2 = pc.country_name_to_country_alpha2(country_name)\n",
    "    country_continent_code = pc.country_alpha2_to_continent_code(country_alpha2)\n",
    "    country_continent_name = pc.convert_continent_code_to_continent_name(country_continent_code)\n",
    "    return country_continent_name\n",
    "\n",
    "\n",
    "country = temp_df.groupby(by=[\"Country\"]).sum()   \n",
    "ct = []\n",
    "for row in country.index: \n",
    "    ct.append(row)\n",
    "ct_dict = dict((l,0) for l in ct)\n",
    "for i in range(len(ct)):\n",
    "  country_name = ct[i]\n",
    "  if country_name == \"People 's Republic of China\" or country_name == \"Republic of China\":\n",
    "    countinent_name = \"Asia\"\n",
    "    ct_dict[country_name] = countinent_name\n",
    "  elif country_name != \"Other\":\n",
    "    countinent_name = country_to_continent(country_name)\n",
    "    ct_dict[country_name] = countinent_name\n",
    "\n",
    "\n",
    "temp_df = temp_df.replace({\"Country\": ct_dict})                \n",
    "temp_df = pd.get_dummies(temp_df, columns=[\"Country\"])\n"
   ]
  },
  {
   "cell_type": "markdown",
   "metadata": {
    "id": "3FPbrC4A1Oxr",
    "papermill": {
     "duration": 0.038418,
     "end_time": "2021-06-23T12:53:39.537421",
     "exception": false,
     "start_time": "2021-06-23T12:53:39.499003",
     "status": "completed"
    },
    "tags": []
   },
   "source": [
    "## One Hot Encoding (k-1 for k values)"
   ]
  },
  {
   "cell_type": "code",
   "execution_count": 30,
   "metadata": {
    "execution": {
     "iopub.execute_input": "2021-06-23T12:53:39.620828Z",
     "iopub.status.busy": "2021-06-23T12:53:39.620226Z",
     "iopub.status.idle": "2021-06-23T12:53:39.641161Z",
     "shell.execute_reply": "2021-06-23T12:53:39.640549Z",
     "shell.execute_reply.started": "2021-06-22T16:58:42.817765Z"
    },
    "id": "5jeAsuZQPBKW",
    "papermill": {
     "duration": 0.06484,
     "end_time": "2021-06-23T12:53:39.641273",
     "exception": false,
     "start_time": "2021-06-23T12:53:39.576433",
     "status": "completed"
    },
    "tags": []
   },
   "outputs": [],
   "source": [
    "temp_df = pd.get_dummies(temp_df, columns=[\"GenderSelect\",\n",
    "\"EmploymentStatus\", \n",
    "\"CurrentJobTitleSelect\",                                                                                         \n",
    "\"MajorSelect\" ,\n",
    "\"WorkMLTeamSeatSelect\"\n",
    "], drop_first=True)"
   ]
  },
  {
   "cell_type": "markdown",
   "metadata": {
    "id": "_NnvJX5p1g2-",
    "papermill": {
     "duration": 0.038396,
     "end_time": "2021-06-23T12:53:39.718083",
     "exception": false,
     "start_time": "2021-06-23T12:53:39.679687",
     "status": "completed"
    },
    "tags": []
   },
   "source": [
    "## Seperate Test and Train Data (Drop Some Columns)"
   ]
  },
  {
   "cell_type": "code",
   "execution_count": 31,
   "metadata": {
    "execution": {
     "iopub.execute_input": "2021-06-23T12:53:39.801789Z",
     "iopub.status.busy": "2021-06-23T12:53:39.801040Z",
     "iopub.status.idle": "2021-06-23T12:53:39.809110Z",
     "shell.execute_reply": "2021-06-23T12:53:39.808360Z",
     "shell.execute_reply.started": "2021-06-22T16:58:42.846893Z"
    },
    "id": "Oq-8Gry-PBKX",
    "outputId": "62a34ef1-a321-4133-b21d-795ee84f6f5e",
    "papermill": {
     "duration": 0.053038,
     "end_time": "2021-06-23T12:53:39.809276",
     "exception": false,
     "start_time": "2021-06-23T12:53:39.756238",
     "status": "completed"
    },
    "tags": []
   },
   "outputs": [
    {
     "name": "stdout",
     "output_type": "stream",
     "text": [
      "(1000, 107)\n"
     ]
    }
   ],
   "source": [
    "test_df = temp_df.iloc[count_row:,:]\n",
    "temp_df = temp_df.iloc[:count_row,:]\n",
    "\n",
    "print(test_df.shape)\n",
    "\n",
    "test_df = test_df.drop(columns = [\"WorkAlgorithmsSelect\",\"MLTechniquesSelect\"\n",
    "                                  ,\"CurrentEmployerType\",\"WorkInternalVsExternalTools\"\n",
    "                                  ,\"PastJobTitlesSelect\",\"MLSkillsSelect\"\n",
    "                                ,\"MLMethodNextYearSelect\",\"MLToolNextYearSelect\"\n",
    "                                ])\n",
    "test_df = test_df.reset_index(drop=True)"
   ]
  },
  {
   "cell_type": "code",
   "execution_count": 32,
   "metadata": {
    "execution": {
     "iopub.execute_input": "2021-06-23T12:53:39.894593Z",
     "iopub.status.busy": "2021-06-23T12:53:39.893838Z",
     "iopub.status.idle": "2021-06-23T12:53:39.901874Z",
     "shell.execute_reply": "2021-06-23T12:53:39.902311Z",
     "shell.execute_reply.started": "2021-06-22T16:58:42.861153Z"
    },
    "id": "yRmxr9t0PBKZ",
    "papermill": {
     "duration": 0.052786,
     "end_time": "2021-06-23T12:53:39.902474",
     "exception": false,
     "start_time": "2021-06-23T12:53:39.849688",
     "status": "completed"
    },
    "tags": []
   },
   "outputs": [],
   "source": [
    "temp_df = temp_df.drop(columns = [\"WorkAlgorithmsSelect\",\"MLTechniquesSelect\"\n",
    "                                  ,\"CurrentEmployerType\",\"WorkInternalVsExternalTools\"\n",
    "                                  ,\"PastJobTitlesSelect\",\"MLSkillsSelect\"\n",
    "                                ,\"MLMethodNextYearSelect\",\"MLToolNextYearSelect\"\n",
    "                                ])\n",
    "temp_df = temp_df.reset_index(drop=True)"
   ]
  },
  {
   "cell_type": "markdown",
   "metadata": {
    "id": "VQoqtRgUqN5-",
    "papermill": {
     "duration": 0.039121,
     "end_time": "2021-06-23T12:53:39.980201",
     "exception": false,
     "start_time": "2021-06-23T12:53:39.941080",
     "status": "completed"
    },
    "tags": []
   },
   "source": [
    "# ML ALGORITHMS"
   ]
  },
  {
   "cell_type": "markdown",
   "metadata": {
    "id": "F7_Oy8qKh-DJ",
    "papermill": {
     "duration": 0.039605,
     "end_time": "2021-06-23T12:53:40.059739",
     "exception": false,
     "start_time": "2021-06-23T12:53:40.020134",
     "status": "completed"
    },
    "tags": []
   },
   "source": [
    "Create a new dataframe for compare predictions of each algorithm."
   ]
  },
  {
   "cell_type": "code",
   "execution_count": 33,
   "metadata": {
    "execution": {
     "iopub.execute_input": "2021-06-23T12:53:40.152567Z",
     "iopub.status.busy": "2021-06-23T12:53:40.151286Z",
     "iopub.status.idle": "2021-06-23T12:53:40.157283Z",
     "shell.execute_reply": "2021-06-23T12:53:40.156759Z",
     "shell.execute_reply.started": "2021-06-22T17:02:55.164733Z"
    },
    "id": "S_jvZ_sYh9FF",
    "papermill": {
     "duration": 0.058574,
     "end_time": "2021-06-23T12:53:40.157396",
     "exception": false,
     "start_time": "2021-06-23T12:53:40.098822",
     "status": "completed"
    },
    "tags": []
   },
   "outputs": [],
   "source": [
    "df_empty = test_df[[\"ID\",\"CompensationScore\"]]\n",
    "df_empty = df_empty.rename(columns={'CompensationScore': 'linear'})\n",
    "df_empty[\"linear\"] = df_empty[\"linear\"]*0\n",
    "df_empty[\"Ridge\"] = df_empty[\"linear\"]\n",
    "df_empty[\"gradient\"]= df_empty[\"linear\"]\n",
    "df_empty[\"elastic\"]= df_empty[\"linear\"]\n",
    "df_empty[\"lasso\"]= df_empty[\"linear\"]\n",
    "df_empty[\"bayes\"]= df_empty[\"linear\"]\n",
    "\n",
    "x = temp_df.drop(columns=[\"ID\"])\n",
    "test = test_df.drop(columns=[\"ID\"])\n",
    "\n",
    "x = x.reset_index(drop=True)\n",
    "test = test.reset_index(drop=True)"
   ]
  },
  {
   "cell_type": "markdown",
   "metadata": {
    "id": "e6P2N8Df0bvI",
    "papermill": {
     "duration": 0.038886,
     "end_time": "2021-06-23T12:53:40.234703",
     "exception": false,
     "start_time": "2021-06-23T12:53:40.195817",
     "status": "completed"
    },
    "tags": []
   },
   "source": [
    "## Linear Regression"
   ]
  },
  {
   "cell_type": "code",
   "execution_count": 34,
   "metadata": {
    "execution": {
     "iopub.execute_input": "2021-06-23T12:53:40.322971Z",
     "iopub.status.busy": "2021-06-23T12:53:40.322238Z",
     "iopub.status.idle": "2021-06-23T12:53:40.562289Z",
     "shell.execute_reply": "2021-06-23T12:53:40.561501Z",
     "shell.execute_reply.started": "2021-06-22T17:03:14.893811Z"
    },
    "id": "VxOCgULA1peH",
    "outputId": "645f6dfb-1cd0-4c35-e4fc-cf0360172aee",
    "papermill": {
     "duration": 0.28795,
     "end_time": "2021-06-23T12:53:40.562474",
     "exception": false,
     "start_time": "2021-06-23T12:53:40.274524",
     "status": "completed"
    },
    "tags": []
   },
   "outputs": [
    {
     "name": "stdout",
     "output_type": "stream",
     "text": [
      "0      9.208505\n",
      "1      7.322153\n",
      "2      7.092672\n",
      "3      6.952042\n",
      "4      8.204510\n",
      "         ...   \n",
      "995    8.166856\n",
      "996    6.705332\n",
      "997    5.325575\n",
      "998    7.392472\n",
      "999    6.508757\n",
      "Name: linear, Length: 1000, dtype: float64\n",
      "1.9502265957873015\n"
     ]
    }
   ],
   "source": [
    "\n",
    "folds = KFold(n_splits = 5)\n",
    "scores = []\n",
    "lin_model = LinearRegression()\n",
    "for n_fold, (train_index, valid_index) in enumerate(folds.split(x,y)):   \n",
    "    x_train, x_val = x.iloc[list(train_index)], x.iloc[list(valid_index)]\n",
    "    y_train, y_val = y.iloc[list(train_index)], y.iloc[list(valid_index)]\n",
    "    \n",
    "    \n",
    "    lin_model.fit(x_train, y_train)\n",
    "    y_pred = lin_model.predict(x_val)\n",
    "    rmse = mean_squared_error(y_val, y_pred, squared=False)\n",
    "    pred_test = lin_model.predict(test)\n",
    "    df_empty[\"linear\"] += pred_test\n",
    "    scores.append(rmse)\n",
    "df_empty[\"linear\"] = df_empty[\"linear\"]/5\n",
    "\n",
    "print(df_empty[\"linear\"])\n",
    "print(mean(scores))\n"
   ]
  },
  {
   "cell_type": "markdown",
   "metadata": {
    "id": "5sxOwpDf0g8Z",
    "papermill": {
     "duration": 0.039176,
     "end_time": "2021-06-23T12:53:40.642261",
     "exception": false,
     "start_time": "2021-06-23T12:53:40.603085",
     "status": "completed"
    },
    "tags": []
   },
   "source": [
    "## Ridge CV"
   ]
  },
  {
   "cell_type": "code",
   "execution_count": 35,
   "metadata": {
    "execution": {
     "iopub.execute_input": "2021-06-23T12:53:40.731801Z",
     "iopub.status.busy": "2021-06-23T12:53:40.730750Z",
     "iopub.status.idle": "2021-06-23T12:53:40.985356Z",
     "shell.execute_reply": "2021-06-23T12:53:40.984249Z",
     "shell.execute_reply.started": "2021-06-22T17:03:15.065418Z"
    },
    "id": "nd9HUGBplcme",
    "outputId": "6305c16c-4028-4ffb-90ef-6c6d08ef1d71",
    "papermill": {
     "duration": 0.302701,
     "end_time": "2021-06-23T12:53:40.985487",
     "exception": false,
     "start_time": "2021-06-23T12:53:40.682786",
     "status": "completed"
    },
    "tags": []
   },
   "outputs": [
    {
     "name": "stdout",
     "output_type": "stream",
     "text": [
      "0      9.192778\n",
      "1      7.320973\n",
      "2      7.077314\n",
      "3      6.957574\n",
      "4      8.220035\n",
      "         ...   \n",
      "995    8.197991\n",
      "996    6.723941\n",
      "997    5.330887\n",
      "998    7.433579\n",
      "999    6.472391\n",
      "Name: Ridge, Length: 1000, dtype: float64\n",
      "1.9461972578909348\n"
     ]
    }
   ],
   "source": [
    "folds = KFold(n_splits = 5)\n",
    "scores = []\n",
    "ridge_model = RidgeCV()\n",
    "for n_fold, (train_index, valid_index) in enumerate(folds.split(x,y)):   \n",
    "    x_train, x_val = x.iloc[list(train_index)], x.iloc[list(valid_index)]\n",
    "    y_train, y_val = y.iloc[list(train_index)], y.iloc[list(valid_index)]\n",
    "    \n",
    "    \n",
    "    ridge_model.fit(x_train, y_train)\n",
    "    y_pred = ridge_model.predict(x_val)\n",
    "    rmse = mean_squared_error(y_val, y_pred, squared=False)\n",
    "    pred_test = ridge_model.predict(test)\n",
    "    df_empty[\"Ridge\"] += pred_test\n",
    "    scores.append(rmse)\n",
    "df_empty[\"Ridge\"] = df_empty[\"Ridge\"]/5\n",
    "\n",
    "print(df_empty[\"Ridge\"])\n",
    "print(mean(scores))\n"
   ]
  },
  {
   "cell_type": "markdown",
   "metadata": {
    "id": "lasjR5dL2IOG",
    "papermill": {
     "duration": 0.040161,
     "end_time": "2021-06-23T12:53:41.065695",
     "exception": false,
     "start_time": "2021-06-23T12:53:41.025534",
     "status": "completed"
    },
    "tags": []
   },
   "source": [
    "## Gradient Boosting\n"
   ]
  },
  {
   "cell_type": "code",
   "execution_count": 36,
   "metadata": {
    "execution": {
     "iopub.execute_input": "2021-06-23T12:53:41.149153Z",
     "iopub.status.busy": "2021-06-23T12:53:41.148275Z",
     "iopub.status.idle": "2021-06-23T12:53:47.419199Z",
     "shell.execute_reply": "2021-06-23T12:53:47.418256Z",
     "shell.execute_reply.started": "2021-06-22T17:03:15.36823Z"
    },
    "id": "3hgP_2eFNFab",
    "outputId": "28c04af4-3067-4028-da0f-6fcfb60d877f",
    "papermill": {
     "duration": 6.313141,
     "end_time": "2021-06-23T12:53:47.419327",
     "exception": false,
     "start_time": "2021-06-23T12:53:41.106186",
     "status": "completed"
    },
    "tags": []
   },
   "outputs": [
    {
     "name": "stdout",
     "output_type": "stream",
     "text": [
      "0      8.854505\n",
      "1      7.430425\n",
      "2      7.233597\n",
      "3      6.630643\n",
      "4      8.456239\n",
      "         ...   \n",
      "995    8.102595\n",
      "996    6.561562\n",
      "997    5.643555\n",
      "998    7.638048\n",
      "999    6.627700\n",
      "Name: gradient, Length: 1000, dtype: float64\n",
      "1.9482844297280597\n"
     ]
    }
   ],
   "source": [
    "folds = KFold(n_splits = 5)\n",
    "scores = []\n",
    "reg = GradientBoostingRegressor(random_state=25)\n",
    "for n_fold, (train_index, valid_index) in enumerate(folds.split(x,y)):   \n",
    "    x_train, x_val = x.iloc[list(train_index)], x.iloc[list(valid_index)]\n",
    "    y_train, y_val = y.iloc[list(train_index)], y.iloc[list(valid_index)]\n",
    "    \n",
    "    \n",
    "    reg.fit(x_train, y_train)\n",
    "    y_pred = reg.predict(x_val)\n",
    "    rmse = mean_squared_error(y_val, y_pred, squared=False)\n",
    "    pred_test = reg.predict(test)\n",
    "    df_empty[\"gradient\"] += pred_test\n",
    "    scores.append(rmse)\n",
    "df_empty[\"gradient\"] = df_empty[\"gradient\"]/5\n",
    "\n",
    "print(df_empty[\"gradient\"])\n",
    "print(mean(scores))\n"
   ]
  },
  {
   "cell_type": "markdown",
   "metadata": {
    "id": "p0D5QKe3qUT_",
    "papermill": {
     "duration": 0.03959,
     "end_time": "2021-06-23T12:53:47.501304",
     "exception": false,
     "start_time": "2021-06-23T12:53:47.461714",
     "status": "completed"
    },
    "tags": []
   },
   "source": [
    "## LassoCV\n"
   ]
  },
  {
   "cell_type": "code",
   "execution_count": 37,
   "metadata": {
    "execution": {
     "iopub.execute_input": "2021-06-23T12:53:47.589278Z",
     "iopub.status.busy": "2021-06-23T12:53:47.588603Z",
     "iopub.status.idle": "2021-06-23T12:53:48.383314Z",
     "shell.execute_reply": "2021-06-23T12:53:48.384020Z",
     "shell.execute_reply.started": "2021-06-22T17:03:21.323678Z"
    },
    "id": "YUsZp8ZyzYOs",
    "outputId": "f7c9d92a-575d-458a-cd95-d510e92a87bb",
    "papermill": {
     "duration": 0.84319,
     "end_time": "2021-06-23T12:53:48.384205",
     "exception": false,
     "start_time": "2021-06-23T12:53:47.541015",
     "status": "completed"
    },
    "tags": []
   },
   "outputs": [
    {
     "name": "stdout",
     "output_type": "stream",
     "text": [
      "0      8.730651\n",
      "1      7.464859\n",
      "2      7.040546\n",
      "3      6.815829\n",
      "4      8.231543\n",
      "         ...   \n",
      "995    7.897943\n",
      "996    6.516030\n",
      "997    5.702439\n",
      "998    7.366443\n",
      "999    6.449866\n",
      "Name: lasso, Length: 1000, dtype: float64\n",
      "1.9527511839424092\n"
     ]
    }
   ],
   "source": [
    "folds = KFold(n_splits = 5)\n",
    "scores = []\n",
    "lasso = LassoCV()\n",
    "for n_fold, (train_index, valid_index) in enumerate(folds.split(x,y)):   \n",
    "    x_train, x_val = x.iloc[list(train_index)], x.iloc[list(valid_index)]\n",
    "    y_train, y_val = y.iloc[list(train_index)], y.iloc[list(valid_index)]\n",
    "    \n",
    "    \n",
    "    lasso.fit(x_train, y_train)\n",
    "    y_pred = lasso.predict(x_val)\n",
    "    rmse = mean_squared_error(y_val, y_pred, squared=False)\n",
    "    pred_test = lasso.predict(test)\n",
    "    df_empty[\"lasso\"] += pred_test\n",
    "    scores.append(rmse)\n",
    "df_empty[\"lasso\"] = df_empty[\"lasso\"]/5\n",
    "\n",
    "print(df_empty[\"lasso\"])\n",
    "print(mean(scores))\n"
   ]
  },
  {
   "cell_type": "markdown",
   "metadata": {
    "id": "sR5mGGmRqYd1",
    "papermill": {
     "duration": 0.041202,
     "end_time": "2021-06-23T12:53:48.466740",
     "exception": false,
     "start_time": "2021-06-23T12:53:48.425538",
     "status": "completed"
    },
    "tags": []
   },
   "source": [
    "## ElasticCV\n"
   ]
  },
  {
   "cell_type": "code",
   "execution_count": 38,
   "metadata": {
    "execution": {
     "iopub.execute_input": "2021-06-23T12:53:48.558576Z",
     "iopub.status.busy": "2021-06-23T12:53:48.557534Z",
     "iopub.status.idle": "2021-06-23T12:53:49.347445Z",
     "shell.execute_reply": "2021-06-23T12:53:49.346395Z",
     "shell.execute_reply.started": "2021-06-22T17:03:22.245027Z"
    },
    "id": "gSeiyC42zY6o",
    "outputId": "a2d732c3-adfb-48cd-b468-cc1ab3c98677",
    "papermill": {
     "duration": 0.840505,
     "end_time": "2021-06-23T12:53:49.347643",
     "exception": false,
     "start_time": "2021-06-23T12:53:48.507138",
     "status": "completed"
    },
    "tags": []
   },
   "outputs": [
    {
     "name": "stdout",
     "output_type": "stream",
     "text": [
      "0      8.686600\n",
      "1      7.452194\n",
      "2      7.043894\n",
      "3      6.813882\n",
      "4      8.150200\n",
      "         ...   \n",
      "995    7.828917\n",
      "996    6.498252\n",
      "997    5.740350\n",
      "998    7.354791\n",
      "999    6.455319\n",
      "Name: elastic, Length: 1000, dtype: float64\n",
      "1.954535794000465\n"
     ]
    }
   ],
   "source": [
    "folds = KFold(n_splits = 5)\n",
    "scores = []\n",
    "Elastic = ElasticNetCV()\n",
    "for n_fold, (train_index, valid_index) in enumerate(folds.split(x,y)):   \n",
    "    x_train, x_val = x.iloc[list(train_index)], x.iloc[list(valid_index)]\n",
    "    y_train, y_val = y.iloc[list(train_index)], y.iloc[list(valid_index)]\n",
    "    \n",
    "    \n",
    "    Elastic.fit(x_train, y_train)\n",
    "    y_pred = Elastic.predict(x_val)\n",
    "    rmse = mean_squared_error(y_val, y_pred, squared=False)\n",
    "    pred_test = Elastic.predict(test)\n",
    "    df_empty[\"elastic\"] += pred_test\n",
    "    scores.append(rmse)\n",
    "df_empty[\"elastic\"] = df_empty[\"elastic\"]/5\n",
    "\n",
    "print(df_empty[\"elastic\"])\n",
    "print(mean(scores))\n"
   ]
  },
  {
   "cell_type": "markdown",
   "metadata": {
    "id": "KDyrM2mNqb_o",
    "papermill": {
     "duration": 0.04042,
     "end_time": "2021-06-23T12:53:49.432201",
     "exception": false,
     "start_time": "2021-06-23T12:53:49.391781",
     "status": "completed"
    },
    "tags": []
   },
   "source": [
    "## Bayesian Ridge\n"
   ]
  },
  {
   "cell_type": "code",
   "execution_count": 39,
   "metadata": {
    "execution": {
     "iopub.execute_input": "2021-06-23T12:53:49.521694Z",
     "iopub.status.busy": "2021-06-23T12:53:49.520975Z",
     "iopub.status.idle": "2021-06-23T12:53:49.689127Z",
     "shell.execute_reply": "2021-06-23T12:53:49.688594Z",
     "shell.execute_reply.started": "2021-06-22T17:03:23.148175Z"
    },
    "id": "loRccY5mCTdk",
    "outputId": "d72317f2-05c4-4644-bc23-7147a2213373",
    "papermill": {
     "duration": 0.216807,
     "end_time": "2021-06-23T12:53:49.689242",
     "exception": false,
     "start_time": "2021-06-23T12:53:49.472435",
     "status": "completed"
    },
    "tags": []
   },
   "outputs": [
    {
     "name": "stdout",
     "output_type": "stream",
     "text": [
      "0      9.054468\n",
      "1      7.404147\n",
      "2      7.087795\n",
      "3      6.865012\n",
      "4      8.134673\n",
      "         ...   \n",
      "995    8.067023\n",
      "996    6.699982\n",
      "997    5.450531\n",
      "998    7.517395\n",
      "999    6.406867\n",
      "Name: bayes, Length: 1000, dtype: float64\n",
      "1.9417965784190443\n"
     ]
    }
   ],
   "source": [
    "folds = KFold(n_splits = 5)\n",
    "scores = []\n",
    "clf = linear_model.BayesianRidge()\n",
    "for n_fold, (train_index, valid_index) in enumerate(folds.split(x,y)):   \n",
    "    x_train, x_val = x.iloc[list(train_index)], x.iloc[list(valid_index)]\n",
    "    y_train, y_val = y.iloc[list(train_index)], y.iloc[list(valid_index)]\n",
    "    \n",
    "    \n",
    "    clf.fit(x_train, y_train)\n",
    "    y_pred = clf.predict(x_val)\n",
    "    rmse = mean_squared_error(y_val, y_pred, squared=False)\n",
    "    pred_test = clf.predict(test)\n",
    "    df_empty[\"bayes\"] += pred_test\n",
    "    scores.append(rmse)\n",
    "df_empty[\"bayes\"] = df_empty[\"bayes\"]/5\n",
    "\n",
    "print(df_empty[\"bayes\"])\n",
    "print(mean(scores))\n",
    "\n"
   ]
  },
  {
   "cell_type": "markdown",
   "metadata": {
    "id": "jvx3n_kmigE1",
    "papermill": {
     "duration": 0.039963,
     "end_time": "2021-06-23T12:53:49.770068",
     "exception": false,
     "start_time": "2021-06-23T12:53:49.730105",
     "status": "completed"
    },
    "tags": []
   },
   "source": [
    "## Prediction of Algorithms\n",
    "\n"
   ]
  },
  {
   "cell_type": "code",
   "execution_count": 40,
   "metadata": {
    "execution": {
     "iopub.execute_input": "2021-06-23T12:53:49.891063Z",
     "iopub.status.busy": "2021-06-23T12:53:49.889748Z",
     "iopub.status.idle": "2021-06-23T12:53:49.903765Z",
     "shell.execute_reply": "2021-06-23T12:53:49.903216Z",
     "shell.execute_reply.started": "2021-06-22T17:03:23.351703Z"
    },
    "id": "P82N51DeXxPn",
    "outputId": "82a03884-bfca-4737-a32c-7b22254ca641",
    "papermill": {
     "duration": 0.085566,
     "end_time": "2021-06-23T12:53:49.903878",
     "exception": false,
     "start_time": "2021-06-23T12:53:49.818312",
     "status": "completed"
    },
    "tags": []
   },
   "outputs": [
    {
     "data": {
      "text/html": [
       "<div>\n",
       "<style scoped>\n",
       "    .dataframe tbody tr th:only-of-type {\n",
       "        vertical-align: middle;\n",
       "    }\n",
       "\n",
       "    .dataframe tbody tr th {\n",
       "        vertical-align: top;\n",
       "    }\n",
       "\n",
       "    .dataframe thead th {\n",
       "        text-align: right;\n",
       "    }\n",
       "</style>\n",
       "<table border=\"1\" class=\"dataframe\">\n",
       "  <thead>\n",
       "    <tr style=\"text-align: right;\">\n",
       "      <th></th>\n",
       "      <th>ID</th>\n",
       "      <th>linear</th>\n",
       "      <th>Ridge</th>\n",
       "      <th>gradient</th>\n",
       "      <th>elastic</th>\n",
       "      <th>lasso</th>\n",
       "      <th>bayes</th>\n",
       "    </tr>\n",
       "  </thead>\n",
       "  <tbody>\n",
       "    <tr>\n",
       "      <th>0</th>\n",
       "      <td>1</td>\n",
       "      <td>9.208505</td>\n",
       "      <td>9.192778</td>\n",
       "      <td>8.854505</td>\n",
       "      <td>8.686600</td>\n",
       "      <td>8.730651</td>\n",
       "      <td>9.054468</td>\n",
       "    </tr>\n",
       "    <tr>\n",
       "      <th>1</th>\n",
       "      <td>2</td>\n",
       "      <td>7.322153</td>\n",
       "      <td>7.320973</td>\n",
       "      <td>7.430425</td>\n",
       "      <td>7.452194</td>\n",
       "      <td>7.464859</td>\n",
       "      <td>7.404147</td>\n",
       "    </tr>\n",
       "    <tr>\n",
       "      <th>2</th>\n",
       "      <td>3</td>\n",
       "      <td>7.092672</td>\n",
       "      <td>7.077314</td>\n",
       "      <td>7.233597</td>\n",
       "      <td>7.043894</td>\n",
       "      <td>7.040546</td>\n",
       "      <td>7.087795</td>\n",
       "    </tr>\n",
       "    <tr>\n",
       "      <th>3</th>\n",
       "      <td>4</td>\n",
       "      <td>6.952042</td>\n",
       "      <td>6.957574</td>\n",
       "      <td>6.630643</td>\n",
       "      <td>6.813882</td>\n",
       "      <td>6.815829</td>\n",
       "      <td>6.865012</td>\n",
       "    </tr>\n",
       "    <tr>\n",
       "      <th>4</th>\n",
       "      <td>5</td>\n",
       "      <td>8.204510</td>\n",
       "      <td>8.220035</td>\n",
       "      <td>8.456239</td>\n",
       "      <td>8.150200</td>\n",
       "      <td>8.231543</td>\n",
       "      <td>8.134673</td>\n",
       "    </tr>\n",
       "    <tr>\n",
       "      <th>...</th>\n",
       "      <td>...</td>\n",
       "      <td>...</td>\n",
       "      <td>...</td>\n",
       "      <td>...</td>\n",
       "      <td>...</td>\n",
       "      <td>...</td>\n",
       "      <td>...</td>\n",
       "    </tr>\n",
       "    <tr>\n",
       "      <th>995</th>\n",
       "      <td>996</td>\n",
       "      <td>8.166856</td>\n",
       "      <td>8.197991</td>\n",
       "      <td>8.102595</td>\n",
       "      <td>7.828917</td>\n",
       "      <td>7.897943</td>\n",
       "      <td>8.067023</td>\n",
       "    </tr>\n",
       "    <tr>\n",
       "      <th>996</th>\n",
       "      <td>997</td>\n",
       "      <td>6.705332</td>\n",
       "      <td>6.723941</td>\n",
       "      <td>6.561562</td>\n",
       "      <td>6.498252</td>\n",
       "      <td>6.516030</td>\n",
       "      <td>6.699982</td>\n",
       "    </tr>\n",
       "    <tr>\n",
       "      <th>997</th>\n",
       "      <td>998</td>\n",
       "      <td>5.325575</td>\n",
       "      <td>5.330887</td>\n",
       "      <td>5.643555</td>\n",
       "      <td>5.740350</td>\n",
       "      <td>5.702439</td>\n",
       "      <td>5.450531</td>\n",
       "    </tr>\n",
       "    <tr>\n",
       "      <th>998</th>\n",
       "      <td>999</td>\n",
       "      <td>7.392472</td>\n",
       "      <td>7.433579</td>\n",
       "      <td>7.638048</td>\n",
       "      <td>7.354791</td>\n",
       "      <td>7.366443</td>\n",
       "      <td>7.517395</td>\n",
       "    </tr>\n",
       "    <tr>\n",
       "      <th>999</th>\n",
       "      <td>1000</td>\n",
       "      <td>6.508757</td>\n",
       "      <td>6.472391</td>\n",
       "      <td>6.627700</td>\n",
       "      <td>6.455319</td>\n",
       "      <td>6.449866</td>\n",
       "      <td>6.406867</td>\n",
       "    </tr>\n",
       "  </tbody>\n",
       "</table>\n",
       "<p>1000 rows × 7 columns</p>\n",
       "</div>"
      ],
      "text/plain": [
       "       ID    linear     Ridge  gradient   elastic     lasso     bayes\n",
       "0       1  9.208505  9.192778  8.854505  8.686600  8.730651  9.054468\n",
       "1       2  7.322153  7.320973  7.430425  7.452194  7.464859  7.404147\n",
       "2       3  7.092672  7.077314  7.233597  7.043894  7.040546  7.087795\n",
       "3       4  6.952042  6.957574  6.630643  6.813882  6.815829  6.865012\n",
       "4       5  8.204510  8.220035  8.456239  8.150200  8.231543  8.134673\n",
       "..    ...       ...       ...       ...       ...       ...       ...\n",
       "995   996  8.166856  8.197991  8.102595  7.828917  7.897943  8.067023\n",
       "996   997  6.705332  6.723941  6.561562  6.498252  6.516030  6.699982\n",
       "997   998  5.325575  5.330887  5.643555  5.740350  5.702439  5.450531\n",
       "998   999  7.392472  7.433579  7.638048  7.354791  7.366443  7.517395\n",
       "999  1000  6.508757  6.472391  6.627700  6.455319  6.449866  6.406867\n",
       "\n",
       "[1000 rows x 7 columns]"
      ]
     },
     "execution_count": 40,
     "metadata": {},
     "output_type": "execute_result"
    }
   ],
   "source": [
    "df_empty"
   ]
  },
  {
   "cell_type": "markdown",
   "metadata": {
    "id": "tYFgsRFP2UqH",
    "papermill": {
     "duration": 0.041121,
     "end_time": "2021-06-23T12:53:49.991712",
     "exception": false,
     "start_time": "2021-06-23T12:53:49.950591",
     "status": "completed"
    },
    "tags": []
   },
   "source": [
    "# Output Creation"
   ]
  },
  {
   "cell_type": "markdown",
   "metadata": {
    "id": "EnHYFi27i07F",
    "papermill": {
     "duration": 0.040352,
     "end_time": "2021-06-23T12:53:50.072826",
     "exception": false,
     "start_time": "2021-06-23T12:53:50.032474",
     "status": "completed"
    },
    "tags": []
   },
   "source": [
    "We choose bayesian ridge because it gives the best rsme score."
   ]
  },
  {
   "cell_type": "code",
   "execution_count": 41,
   "metadata": {
    "execution": {
     "iopub.execute_input": "2021-06-23T12:53:50.166361Z",
     "iopub.status.busy": "2021-06-23T12:53:50.163053Z",
     "iopub.status.idle": "2021-06-23T12:53:50.180840Z",
     "shell.execute_reply": "2021-06-23T12:53:50.180170Z",
     "shell.execute_reply.started": "2021-06-22T17:03:23.374684Z"
    },
    "id": "dzRXR2lqpj_W",
    "outputId": "6264e849-2c08-4e48-e3e2-162ccfc04bce",
    "papermill": {
     "duration": 0.066486,
     "end_time": "2021-06-23T12:53:50.180978",
     "exception": false,
     "start_time": "2021-06-23T12:53:50.114492",
     "status": "completed"
    },
    "tags": []
   },
   "outputs": [
    {
     "data": {
      "text/html": [
       "<div>\n",
       "<style scoped>\n",
       "    .dataframe tbody tr th:only-of-type {\n",
       "        vertical-align: middle;\n",
       "    }\n",
       "\n",
       "    .dataframe tbody tr th {\n",
       "        vertical-align: top;\n",
       "    }\n",
       "\n",
       "    .dataframe thead th {\n",
       "        text-align: right;\n",
       "    }\n",
       "</style>\n",
       "<table border=\"1\" class=\"dataframe\">\n",
       "  <thead>\n",
       "    <tr style=\"text-align: right;\">\n",
       "      <th></th>\n",
       "      <th>ID</th>\n",
       "      <th>Prediction</th>\n",
       "    </tr>\n",
       "  </thead>\n",
       "  <tbody>\n",
       "    <tr>\n",
       "      <th>count</th>\n",
       "      <td>1000.000000</td>\n",
       "      <td>1000.000000</td>\n",
       "    </tr>\n",
       "    <tr>\n",
       "      <th>mean</th>\n",
       "      <td>500.500000</td>\n",
       "      <td>6.792856</td>\n",
       "    </tr>\n",
       "    <tr>\n",
       "      <th>std</th>\n",
       "      <td>288.819436</td>\n",
       "      <td>0.935905</td>\n",
       "    </tr>\n",
       "    <tr>\n",
       "      <th>min</th>\n",
       "      <td>1.000000</td>\n",
       "      <td>3.943252</td>\n",
       "    </tr>\n",
       "    <tr>\n",
       "      <th>25%</th>\n",
       "      <td>250.750000</td>\n",
       "      <td>6.159394</td>\n",
       "    </tr>\n",
       "    <tr>\n",
       "      <th>50%</th>\n",
       "      <td>500.500000</td>\n",
       "      <td>6.841939</td>\n",
       "    </tr>\n",
       "    <tr>\n",
       "      <th>75%</th>\n",
       "      <td>750.250000</td>\n",
       "      <td>7.450792</td>\n",
       "    </tr>\n",
       "    <tr>\n",
       "      <th>max</th>\n",
       "      <td>1000.000000</td>\n",
       "      <td>9.405892</td>\n",
       "    </tr>\n",
       "  </tbody>\n",
       "</table>\n",
       "</div>"
      ],
      "text/plain": [
       "                ID   Prediction\n",
       "count  1000.000000  1000.000000\n",
       "mean    500.500000     6.792856\n",
       "std     288.819436     0.935905\n",
       "min       1.000000     3.943252\n",
       "25%     250.750000     6.159394\n",
       "50%     500.500000     6.841939\n",
       "75%     750.250000     7.450792\n",
       "max    1000.000000     9.405892"
      ]
     },
     "execution_count": 41,
     "metadata": {},
     "output_type": "execute_result"
    }
   ],
   "source": [
    "output = df_empty[[\"ID\",\"bayes\"]]\n",
    "output = output.rename(columns={'bayes': 'Prediction'})\n",
    "\n",
    "output.describe()"
   ]
  },
  {
   "cell_type": "code",
   "execution_count": 42,
   "metadata": {
    "execution": {
     "iopub.execute_input": "2021-06-23T12:53:50.268292Z",
     "iopub.status.busy": "2021-06-23T12:53:50.267316Z",
     "iopub.status.idle": "2021-06-23T12:53:50.275514Z",
     "shell.execute_reply": "2021-06-23T12:53:50.275914Z",
     "shell.execute_reply.started": "2021-06-22T17:03:23.399315Z"
    },
    "id": "8xY46JN8PBKf",
    "papermill": {
     "duration": 0.05419,
     "end_time": "2021-06-23T12:53:50.276094",
     "exception": false,
     "start_time": "2021-06-23T12:53:50.221904",
     "status": "completed"
    },
    "tags": []
   },
   "outputs": [],
   "source": [
    "output.to_csv(\"submission.csv\", index=False)"
   ]
  },
  {
   "cell_type": "markdown",
   "metadata": {
    "id": "eP5PcfgXjDIC",
    "papermill": {
     "duration": 0.040909,
     "end_time": "2021-06-23T12:53:50.358454",
     "exception": false,
     "start_time": "2021-06-23T12:53:50.317545",
     "status": "completed"
    },
    "tags": []
   },
   "source": [
    "# Future Work"
   ]
  },
  {
   "cell_type": "markdown",
   "metadata": {
    "id": "cnHAtB4NjGnh",
    "papermill": {
     "duration": 0.040702,
     "end_time": "2021-06-23T12:53:50.440084",
     "exception": false,
     "start_time": "2021-06-23T12:53:50.399382",
     "status": "completed"
    },
    "tags": []
   },
   "source": [
    "Neural Network gives better result so we will implement it later."
   ]
  }
 ],
 "metadata": {
  "kernelspec": {
   "display_name": "Python 3",
   "language": "python",
   "name": "python3"
  },
  "language_info": {
   "codemirror_mode": {
    "name": "ipython",
    "version": 3
   },
   "file_extension": ".py",
   "mimetype": "text/x-python",
   "name": "python",
   "nbconvert_exporter": "python",
   "pygments_lexer": "ipython3",
   "version": "3.7.6"
  },
  "papermill": {
   "duration": 41.915428,
   "end_time": "2021-06-23T12:53:50.588077",
   "environment_variables": {},
   "exception": null,
   "input_path": "__notebook__.ipynb",
   "output_path": "__notebook__.ipynb",
   "parameters": {},
   "start_time": "2021-06-23T12:53:08.672649",
   "version": "2.1.0"
  }
 },
 "nbformat": 4,
 "nbformat_minor": 4
}
